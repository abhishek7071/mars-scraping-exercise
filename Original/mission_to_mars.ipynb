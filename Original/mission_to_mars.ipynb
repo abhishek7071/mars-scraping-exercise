{
 "cells": [
  {
   "cell_type": "code",
   "execution_count": 1,
   "metadata": {},
   "outputs": [],
   "source": [
    "# Dependencies\n",
    "from bs4 import BeautifulSoup as bs\n",
    "import requests\n",
    "from splinter import Browser\n",
    "import pandas as pd\n",
    "import tweepy"
   ]
  },
  {
   "cell_type": "code",
   "execution_count": 2,
   "metadata": {},
   "outputs": [],
   "source": [
    "browser = Browser('chrome', {'executable_path': 'chromedriver.exe'})"
   ]
  },
  {
   "cell_type": "markdown",
   "metadata": {},
   "source": [
    "## NASA Mars News"
   ]
  },
  {
   "cell_type": "code",
   "execution_count": null,
   "metadata": {},
   "outputs": [],
   "source": [
    "# headers = requests.utils.default_headers()\n",
    "# headers.update({'User-Agent': 'Mozilla/5.0 (X11; Ubuntu; Linux x86_64; rv:52.0) Gecko/20100101 Firefox/52.0'})"
   ]
  },
  {
   "cell_type": "code",
   "execution_count": null,
   "metadata": {},
   "outputs": [],
   "source": [
    "url = 'https://mars.nasa.gov/news/'"
   ]
  },
  {
   "cell_type": "code",
   "execution_count": null,
   "metadata": {},
   "outputs": [],
   "source": [
    "# req = requests.get(url, headers)\n",
    "# soup = bs(req.content, 'html.parser')"
   ]
  },
  {
   "cell_type": "code",
   "execution_count": null,
   "metadata": {},
   "outputs": [],
   "source": [
    "browser = Browser('chrome', {'executable_path': 'chromedriver.exe'})\n",
    "url = 'https://mars.nasa.gov/news/'\n",
    "browser.visit(url)\n",
    "html = browser.html\n",
    "soup = bs(html, 'html')"
   ]
  },
  {
   "cell_type": "code",
   "execution_count": null,
   "metadata": {},
   "outputs": [],
   "source": [
    "content_titles = soup.find_all('div', class_ = 'content_title')\n",
    "# content_titles\n",
    "article_title = content_titles[1].text\n",
    "article_title"
   ]
  },
  {
   "cell_type": "code",
   "execution_count": null,
   "metadata": {},
   "outputs": [],
   "source": [
    "teaser_body = soup.find('div', class_ = 'article_teaser_body').text\n",
    "teaser_body"
   ]
  },
  {
   "cell_type": "markdown",
   "metadata": {},
   "source": [
    "## JPL Mars Space Images - Featured Image"
   ]
  },
  {
   "cell_type": "code",
   "execution_count": 3,
   "metadata": {},
   "outputs": [],
   "source": [
    "url = 'https://www.jpl.nasa.gov/spaceimages/?search=&category=Mars'\n",
    "browser.visit(url)"
   ]
  },
  {
   "cell_type": "code",
   "execution_count": 5,
   "metadata": {
    "tags": []
   },
   "outputs": [],
   "source": [
    "browser.click_link_by_partial_text('FULL')"
   ]
  },
  {
   "cell_type": "code",
   "execution_count": 6,
   "metadata": {
    "tags": []
   },
   "outputs": [],
   "source": [
    "browser.click_link_by_partial_text('more info')\n",
    "html = browser.html\n",
    "soup = bs(html,'html')"
   ]
  },
  {
   "cell_type": "code",
   "execution_count": 7,
   "metadata": {},
   "outputs": [
    {
     "output_type": "execute_result",
     "data": {
      "text/plain": "'https://jpl.nasa.gov/spaceimages/images/largesize/PIA16101_hires.jpg'"
     },
     "metadata": {},
     "execution_count": 7
    }
   ],
   "source": [
    "lede = soup.find('figure', class_='lede')\n",
    "img = lede.find('a')['href']\n",
    "img_url = f'https://jpl.nasa.gov{img}'\n",
    "img_url"
   ]
  },
  {
   "cell_type": "code",
   "execution_count": 18,
   "metadata": {
    "tags": []
   },
   "outputs": [
    {
     "output_type": "execute_result",
     "data": {
      "text/plain": "[{'detail': 'Mission: Mars Science Laboratory (MSL)'},\n {'detail': 'Target: Mars'},\n {'detail': 'Spacecraft: Curiosity'},\n {'detail': 'Instrument: Mastcam'},\n {'detail': 'Image credit: NASA/JPL-Caltech/MSSS'}]"
     },
     "metadata": {},
     "execution_count": 18
    }
   ],
   "source": [
    "details = soup.find('aside', class_='image_detail_module')\n",
    "ps = details.find_all('p')\n",
    "det = []\n",
    "for p in ps:\n",
    "    if (\"Full-Res\" not in p.text) and (\"Views\" not in p.text):\n",
    "        img_det = {}\n",
    "        img_det['detail'] = p.text\n",
    "        det.append(img_det)\n",
    "det"
   ]
  },
  {
   "cell_type": "markdown",
   "metadata": {},
   "source": [
    "## Mars Weather"
   ]
  },
  {
   "cell_type": "code",
   "execution_count": null,
   "metadata": {},
   "outputs": [],
   "source": [
    "from twitter import api_key, api_secret_key"
   ]
  },
  {
   "cell_type": "code",
   "execution_count": null,
   "metadata": {},
   "outputs": [],
   "source": [
    "auth = tweepy.OAuthHandler(api_key, api_secret_key)\n",
    "api = tweepy.API(auth)"
   ]
  },
  {
   "cell_type": "code",
   "execution_count": null,
   "metadata": {},
   "outputs": [],
   "source": [
    "username = 'MarsWxReport'\n",
    "tweets = []\n",
    "data = api.user_timeline(id=username, tweet_mode=\"extended\")\n",
    "\n",
    "for t in data:\n",
    "    tweets.append(t.full_text)\n",
    "weather = tweets[0]\n",
    "weather = weather.split(' http',1)[0]\n",
    "# weather.replace(regex=r'\\n',value='')\n",
    "weather"
   ]
  },
  {
   "cell_type": "markdown",
   "metadata": {},
   "source": [
    "## Mars Facts"
   ]
  },
  {
   "cell_type": "code",
   "execution_count": null,
   "metadata": {},
   "outputs": [],
   "source": [
    "url = 'https://space-facts.com/mars/'\n",
    "browser.visit(url)\n",
    "html = browser.html\n",
    "# soup = bs(html, 'html')"
   ]
  },
  {
   "cell_type": "code",
   "execution_count": null,
   "metadata": {},
   "outputs": [],
   "source": [
    "facts = pd.read_html(url)\n",
    "facts_df = pd.DataFrame(facts[0])\n",
    "facts_df.columns = ['Data','Value']\n",
    "facts_df = facts_df.set_index('Data')\n",
    "facts = facts_df.to_html()\n",
    "facts"
   ]
  },
  {
   "cell_type": "markdown",
   "metadata": {},
   "source": [
    "## Mars Hemispheres"
   ]
  },
  {
   "cell_type": "code",
   "execution_count": null,
   "metadata": {},
   "outputs": [],
   "source": [
    "url = 'https://astrogeology.usgs.gov/search/results?q=hemisphere+enhanced&k1=target&v1=Mars'\n",
    "browser.visit(url)\n",
    "html = browser.html\n",
    "soup = bs(html, 'html')\n",
    "links = []\n",
    "\n",
    "products = soup.find_all('div', class_='item')\n",
    "\n",
    "for p in products:\n",
    "    h = {}\n",
    "    hem = p.find('h3').text\n",
    "    hem = hem.replace(' Hemisphere Enhanced','')\n",
    "    h['item'] = hem\n",
    "    browser.click_link_by_partial_text(hem)\n",
    "    html = browser.html\n",
    "    soup = bs(html, 'html')\n",
    "    image_url = soup.find_all('li')\n",
    "    for i in image_url:\n",
    "        img = i.find('a')\n",
    "        if 'Sample' in i.text:\n",
    "            img = img.get('href')\n",
    "            h['url'] = img\n",
    "            print(img)\n",
    "    browser.back()\n",
    "    links.append(h)"
   ]
  },
  {
   "cell_type": "code",
   "execution_count": null,
   "metadata": {},
   "outputs": [],
   "source": [
    "url = 'https://astrogeology.usgs.gov/search/results?q=hemisphere+enhanced&k1=target&v1=Mars'\n",
    "browser.visit(url)\n",
    "html = browser.html\n",
    "soup = bs(html, 'html')\n",
    "\n",
    "link = []\n",
    "\n",
    "for k in list_hem:\n",
    "    browser.click_link_by_partial_text(k)\n",
    "    html = browser.html\n",
    "    soup = bs(html, 'html')\n",
    "    image_url = soup.find_all('li')\n",
    "    # print(image_url)\n",
    "    for i in image_url:\n",
    "        img = i.find('a')\n",
    "        if 'Sample' in i.text:\n",
    "            img2 = img.get('href')\n",
    "            link.append(img2)\n",
    "            print(img2)\n",
    "    browser.back()"
   ]
  },
  {
   "cell_type": "code",
   "execution_count": null,
   "metadata": {},
   "outputs": [],
   "source": []
  }
 ],
 "metadata": {
  "language_info": {
   "name": "python",
   "codemirror_mode": {
    "name": "ipython",
    "version": 3
   },
   "version": "3.8.3-final"
  },
  "orig_nbformat": 2,
  "file_extension": ".py",
  "mimetype": "text/x-python",
  "name": "python",
  "npconvert_exporter": "python",
  "pygments_lexer": "ipython3",
  "version": 3,
  "kernelspec": {
   "name": "python38364bitvenvvenv4228c38dbce9400f88d80a9a13a15ce3",
   "display_name": "Python 3.8.3 64-bit ('venv': venv)"
  }
 },
 "nbformat": 4,
 "nbformat_minor": 2
}