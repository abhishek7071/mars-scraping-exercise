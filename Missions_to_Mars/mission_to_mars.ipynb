{
 "cells": [
  {
   "cell_type": "code",
   "execution_count": 1,
   "metadata": {},
   "outputs": [],
   "source": [
    "# Dependencies\n",
    "from bs4 import BeautifulSoup as bs\n",
    "import requests\n",
    "from splinter import Browser\n",
    "import pandas as pd\n",
    "import tweepy"
   ]
  },
  {
   "cell_type": "code",
   "execution_count": 2,
   "metadata": {},
   "outputs": [],
   "source": [
    "browser = Browser('chrome', {'executable_path': 'chromedriver.exe'})"
   ]
  },
  {
   "cell_type": "markdown",
   "metadata": {},
   "source": [
    "## NASA Mars News"
   ]
  },
  {
   "cell_type": "code",
   "execution_count": 80,
   "metadata": {},
   "outputs": [],
   "source": [
    "url = 'https://mars.nasa.gov/news/'\n",
    "browser.visit(url)\n",
    "html = browser.html\n",
    "soup = bs(html, 'html')"
   ]
  },
  {
   "cell_type": "code",
   "execution_count": 81,
   "metadata": {},
   "outputs": [
    {
     "output_type": "execute_result",
     "data": {
      "text/plain": "\"The Extraordinary Sample-Gathering System of NASA's Perseverance Mars Rover\""
     },
     "metadata": {},
     "execution_count": 81
    }
   ],
   "source": [
    "content_titles = soup.find_all('div', class_ = 'content_title')\n",
    "article_title = content_titles[1].text\n",
    "article_title"
   ]
  },
  {
   "cell_type": "code",
   "execution_count": 5,
   "metadata": {},
   "outputs": [
    {
     "output_type": "execute_result",
     "data": {
      "text/plain": "'Two astronauts collected Moon rocks on Apollo 11. It will take three robotic systems working together to gather up the first Mars rock samples for return to Earth.'"
     },
     "metadata": {},
     "execution_count": 5
    }
   ],
   "source": [
    "teaser_body = soup.find('div', class_ = 'article_teaser_body').text\n",
    "teaser_body"
   ]
  },
  {
   "cell_type": "markdown",
   "metadata": {},
   "source": [
    "## JPL Mars Space Images - Featured Image"
   ]
  },
  {
   "cell_type": "code",
   "execution_count": 6,
   "metadata": {},
   "outputs": [],
   "source": [
    "url = 'https://www.jpl.nasa.gov/spaceimages/?search=&category=Mars'\n",
    "browser.visit(url)"
   ]
  },
  {
   "cell_type": "code",
   "execution_count": 7,
   "metadata": {},
   "outputs": [],
   "source": [
    "browser.click_link_by_partial_text('FULL')"
   ]
  },
  {
   "cell_type": "code",
   "execution_count": 8,
   "metadata": {},
   "outputs": [],
   "source": [
    "browser.click_link_by_partial_text('more info')\n",
    "html = browser.html\n",
    "soup = bs(html,'html')"
   ]
  },
  {
   "cell_type": "code",
   "execution_count": 9,
   "metadata": {},
   "outputs": [
    {
     "output_type": "execute_result",
     "data": {
      "text/plain": "'https://jpl.nasa.gov/spaceimages/images/largesize/PIA00069_hires.jpg'"
     },
     "metadata": {},
     "execution_count": 9
    }
   ],
   "source": [
    "lede = soup.find('figure', class_='lede')\n",
    "img = lede.find('a')['href']\n",
    "img_url = f'https://jpl.nasa.gov{img}'\n",
    "img_url"
   ]
  },
  {
   "cell_type": "markdown",
   "metadata": {},
   "source": [
    "## Mars Weather"
   ]
  },
  {
   "cell_type": "code",
   "execution_count": 10,
   "metadata": {},
   "outputs": [],
   "source": [
    "from twitter import api_key, api_secret_key"
   ]
  },
  {
   "cell_type": "code",
   "execution_count": 11,
   "metadata": {},
   "outputs": [],
   "source": [
    "auth = tweepy.OAuthHandler(api_key, api_secret_key)\n",
    "api = tweepy.API(auth)"
   ]
  },
  {
   "cell_type": "code",
   "execution_count": 27,
   "metadata": {},
   "outputs": [
    {
     "output_type": "execute_result",
     "data": {
      "text/plain": "'InSight sol 541 (2020-06-04) low -91.8ºC (-133.2ºF) high -1.6ºC (29.2ºF)\\nwinds from the SW at 5.4 m/s (12.2 mph) gusting to 17.7 m/s (39.6 mph)\\npressure at 7.30 hPa'"
     },
     "metadata": {},
     "execution_count": 27
    }
   ],
   "source": [
    "username = 'MarsWxReport'\n",
    "tweets = []\n",
    "data = api.user_timeline(id=username, tweet_mode=\"extended\")\n",
    "\n",
    "for t in data:\n",
    "    tweets.append(t.full_text)\n",
    "weather = tweets[0]\n",
    "weather = weather.split(' http',1)[0]\n",
    "# weather.replace(regex=r'\\n',value='')\n",
    "weather"
   ]
  },
  {
   "cell_type": "markdown",
   "metadata": {},
   "source": [
    "## Mars Facts"
   ]
  },
  {
   "cell_type": "code",
   "execution_count": 13,
   "metadata": {},
   "outputs": [],
   "source": [
    "url = 'https://space-facts.com/mars/'\n",
    "browser.visit(url)\n",
    "html = browser.html\n",
    "# soup = bs(html, 'html')"
   ]
  },
  {
   "cell_type": "code",
   "execution_count": 14,
   "metadata": {},
   "outputs": [
    {
     "output_type": "execute_result",
     "data": {
      "text/plain": "'<table border=\"1\" class=\"dataframe\">\\n  <thead>\\n    <tr style=\"text-align: right;\">\\n      <th></th>\\n      <th>Value</th>\\n    </tr>\\n    <tr>\\n      <th>Data</th>\\n      <th></th>\\n    </tr>\\n  </thead>\\n  <tbody>\\n    <tr>\\n      <th>Equatorial Diameter:</th>\\n      <td>6,792 km</td>\\n    </tr>\\n    <tr>\\n      <th>Polar Diameter:</th>\\n      <td>6,752 km</td>\\n    </tr>\\n    <tr>\\n      <th>Mass:</th>\\n      <td>6.39 × 10^23 kg (0.11 Earths)</td>\\n    </tr>\\n    <tr>\\n      <th>Moons:</th>\\n      <td>2 (Phobos &amp; Deimos)</td>\\n    </tr>\\n    <tr>\\n      <th>Orbit Distance:</th>\\n      <td>227,943,824 km (1.38 AU)</td>\\n    </tr>\\n    <tr>\\n      <th>Orbit Period:</th>\\n      <td>687 days (1.9 years)</td>\\n    </tr>\\n    <tr>\\n      <th>Surface Temperature:</th>\\n      <td>-87 to -5 °C</td>\\n    </tr>\\n    <tr>\\n      <th>First Record:</th>\\n      <td>2nd millennium BC</td>\\n    </tr>\\n    <tr>\\n      <th>Recorded By:</th>\\n      <td>Egyptian astronomers</td>\\n    </tr>\\n  </tbody>\\n</table>'"
     },
     "metadata": {},
     "execution_count": 14
    }
   ],
   "source": [
    "facts = pd.read_html(url)\n",
    "facts_df = pd.DataFrame(facts[0])\n",
    "facts_df.columns = ['Data','Value']\n",
    "facts_df = facts_df.set_index('Data')\n",
    "facts = facts_df.to_html()\n",
    "facts"
   ]
  },
  {
   "cell_type": "markdown",
   "metadata": {},
   "source": [
    "## Mars Hemispheres"
   ]
  },
  {
   "cell_type": "code",
   "execution_count": 218,
   "metadata": {},
   "outputs": [
    {
     "output_type": "execute_result",
     "data": {
      "text/plain": "[{'item': 'Cerberus'},\n {'item': 'Schiaparelli'},\n {'item': 'Syrtis Major'},\n {'item': 'Valles Marineris'}]"
     },
     "metadata": {},
     "execution_count": 218
    }
   ],
   "source": [
    "url = 'https://astrogeology.usgs.gov/search/results?q=hemisphere+enhanced&k1=target&v1=Mars'\n",
    "browser.visit(url)\n",
    "html = browser.html\n",
    "soup = bs(html, 'html')\n",
    "links = []\n",
    "\n",
    "products = soup.find_all('div', class_='item')\n",
    "\n",
    "for p in products:\n",
    "    h = {}\n",
    "    hem = p.find('h3').text\n",
    "    hem2 = hem.replace(' Hemisphere Enhanced','')\n",
    "    h['item'] = hem2\n",
    "    for k in list_hem:\n",
    "        browser.click_link_by_partial_text(k)\n",
    "        html = browser.html\n",
    "        soup = bs(html, 'html')\n",
    "        image_url = soup.find_all('li')\n",
    "        # print(image_url)\n",
    "        for i in image_url:\n",
    "            img = i.find('a')\n",
    "            if 'Sample' in i.text:\n",
    "                img2 = img.get('href')\n",
    "                h['url'] = img2\n",
    "        browser.back()\n",
    "    links.append(h)\n",
    "\n",
    "links"
   ]
  },
  {
   "cell_type": "code",
   "execution_count": 209,
   "metadata": {},
   "outputs": [
    {
     "output_type": "stream",
     "name": "stdout",
     "text": "https://astropedia.astrogeology.usgs.gov/download/Mars/Viking/cerberus_enhanced.tif/full.jpg\nhttps://astropedia.astrogeology.usgs.gov/download/Mars/Viking/schiaparelli_enhanced.tif/full.jpg\nhttps://astropedia.astrogeology.usgs.gov/download/Mars/Viking/syrtis_major_enhanced.tif/full.jpg\nhttps://astropedia.astrogeology.usgs.gov/download/Mars/Viking/valles_marineris_enhanced.tif/full.jpg\n"
    }
   ],
   "source": [
    "url = 'https://astrogeology.usgs.gov/search/results?q=hemisphere+enhanced&k1=target&v1=Mars'\n",
    "browser.visit(url)\n",
    "html = browser.html\n",
    "soup = bs(html, 'html')\n",
    "\n",
    "link = []\n",
    "\n",
    "for k in list_hem:\n",
    "    browser.click_link_by_partial_text(k)\n",
    "    html = browser.html\n",
    "    soup = bs(html, 'html')\n",
    "    image_url = soup.find_all('li')\n",
    "    # print(image_url)\n",
    "    for i in image_url:\n",
    "        img = i.find('a')\n",
    "        if 'Sample' in i.text:\n",
    "            img2 = img.get('href')\n",
    "            link.append(img2)\n",
    "            print(img2)\n",
    "    browser.back()"
   ]
  },
  {
   "cell_type": "code",
   "execution_count": 207,
   "metadata": {},
   "outputs": [],
   "source": []
  }
 ],
 "metadata": {
  "language_info": {
   "name": "python",
   "codemirror_mode": {
    "name": "ipython",
    "version": 3
   },
   "version": "3.7.4-final"
  },
  "orig_nbformat": 2,
  "file_extension": ".py",
  "mimetype": "text/x-python",
  "name": "python",
  "npconvert_exporter": "python",
  "pygments_lexer": "ipython3",
  "version": 3,
  "kernelspec": {
   "name": "python37464bitbaseconda1f272b08825b44268b0b382f97a12fd9",
   "display_name": "Python 3.7.4 64-bit ('base': conda)"
  }
 },
 "nbformat": 4,
 "nbformat_minor": 2
}