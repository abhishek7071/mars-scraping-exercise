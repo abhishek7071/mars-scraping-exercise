{
 "cells": [
  {
   "cell_type": "code",
   "execution_count": 30,
   "metadata": {},
   "outputs": [],
   "source": [
    "# Dependencies\n",
    "from bs4 import BeautifulSoup as bs\n",
    "import requests\n",
    "from splinter import Browser\n",
    "import pandas as pd"
   ]
  },
  {
   "cell_type": "code",
   "execution_count": 2,
   "metadata": {},
   "outputs": [],
   "source": [
    "browser = Browser('chrome', {'executable_path': 'chromedriver.exe'})"
   ]
  },
  {
   "cell_type": "markdown",
   "metadata": {},
   "source": [
    "## NASA Mars News"
   ]
  },
  {
   "cell_type": "code",
   "execution_count": 3,
   "metadata": {},
   "outputs": [],
   "source": [
    "url = 'https://mars.nasa.gov/news/'\n",
    "browser.visit(url)\n",
    "html = browser.html\n",
    "soup = bs(html, 'html')"
   ]
  },
  {
   "cell_type": "code",
   "execution_count": 4,
   "metadata": {},
   "outputs": [
    {
     "output_type": "execute_result",
     "data": {
      "text/plain": "\"How NASA's Perseverance Mars Team Adjusted to Work in the Time of Coronavirus \""
     },
     "metadata": {},
     "execution_count": 4
    }
   ],
   "source": [
    "content_titles = soup.find_all('div', class_ = 'content_title')\n",
    "article_title = content_titles[1].text\n",
    "article_title"
   ]
  },
  {
   "cell_type": "code",
   "execution_count": 5,
   "metadata": {},
   "outputs": [
    {
     "output_type": "execute_result",
     "data": {
      "text/plain": "'Like much of the rest of the world, the Mars rover team is pushing forward with its mission-critical work while putting the health and safety of their colleagues and community first.'"
     },
     "metadata": {},
     "execution_count": 5
    }
   ],
   "source": [
    "teaser_body = soup.find('div', class_ = 'article_teaser_body').text\n",
    "teaser_body"
   ]
  },
  {
   "cell_type": "markdown",
   "metadata": {},
   "source": [
    "## JPL Mars Space Images - Featured Image"
   ]
  },
  {
   "cell_type": "code",
   "execution_count": 6,
   "metadata": {},
   "outputs": [],
   "source": [
    "url = 'https://www.jpl.nasa.gov/spaceimages/?search=&category=Mars'\n",
    "browser.visit(url)"
   ]
  },
  {
   "cell_type": "code",
   "execution_count": 7,
   "metadata": {},
   "outputs": [],
   "source": [
    "browser.click_link_by_partial_text('FULL')"
   ]
  },
  {
   "cell_type": "code",
   "execution_count": 8,
   "metadata": {},
   "outputs": [],
   "source": [
    "browser.click_link_by_partial_text('more info')\n",
    "html = browser.html\n",
    "soup = bs(html,'html')"
   ]
  },
  {
   "cell_type": "code",
   "execution_count": 9,
   "metadata": {},
   "outputs": [
    {
     "output_type": "execute_result",
     "data": {
      "text/plain": "'https://jpl.nasa.gov/spaceimages/images/largesize/PIA17838_hires.jpg'"
     },
     "metadata": {},
     "execution_count": 9
    }
   ],
   "source": [
    "lede = soup.find('figure', class_='lede')\n",
    "img = lede.find('a')['href']\n",
    "img_url = f'https://jpl.nasa.gov{img}'\n",
    "img_url"
   ]
  },
  {
   "cell_type": "markdown",
   "metadata": {},
   "source": [
    "## Mars Weather"
   ]
  },
  {
   "cell_type": "code",
   "execution_count": 11,
   "metadata": {},
   "outputs": [],
   "source": [
    "url = 'https://twitter.com/marswxreport?lang=en'\n",
    "browser.visit(url)\n",
    "html = browser.html\n",
    "soup = bs(html, 'html')"
   ]
  },
  {
   "cell_type": "code",
   "execution_count": 26,
   "metadata": {},
   "outputs": [
    {
     "output_type": "stream",
     "name": "stdout",
     "text": "<div class=\"css-1dbjc4n r-13awgt0 r-12vffkv\" data-reactroot=\"\"><div class=\"css-1dbjc4n r-13awgt0 r-12vffkv\"><div class=\"css-1dbjc4n r-18u37iz r-13qz1uu r-417010\" style=\"min-height: 932px;\"><header class=\"css-1dbjc4n r-obd0qt r-16y2uox r-1g40b8q\" role=\"banner\"><div class=\"css-1dbjc4n r-f9dfq4\"><div class=\"css-1dbjc4n r-aqfbo4 r-1pi2tsx r-1xcajam r-ipm5af\"></div></div></header><main class=\"css-1dbjc4n r-1habvwh r-16xksha r-1wbh5a2\" role=\"main\"><div class=\"css-1dbjc4n r-150rngu r-16y2uox r-1wbh5a2 r-33ulu8\"><div class=\"css-1dbjc4n r-16y2uox\"><div class=\"css-1dbjc4n r-1iusvr4 r-16y2uox r-1777fci\"><div aria-label=\"Loading\" aria-valuemax=\"1\" aria-valuemin=\"0\" class=\"css-1dbjc4n r-1awozwy r-1777fci\" role=\"progressbar\"><div class=\"css-1dbjc4n r-17bb2tj r-1muvv40 r-127358a r-1ldzwu0\" style=\"height: 26px; width: 26px;\"><svg height=\"100%\" viewbox=\"0 0 32 32\" width=\"100%\" xmlns=\"http://www.w3.org/2000/svg\"><circle cx=\"16\" cy=\"16\" fill=\"none\" r=\"14\" stroke-width=\"4\" style=\"stroke: rgb(29, 161, 242); opacity: 0.2;\"></circle><circle cx=\"16\" cy=\"16\" fill=\"none\" r=\"14\" stroke-width=\"4\" style=\"stroke: rgb(29, 161, 242); stroke-dasharray: 80; stroke-dashoffset: 60;\"></circle></svg></div></div></div></div></div></main></div></div></div>\n<div class=\"css-1dbjc4n r-13awgt0 r-12vffkv\"><div class=\"css-1dbjc4n r-18u37iz r-13qz1uu r-417010\" style=\"min-height: 932px;\"><header class=\"css-1dbjc4n r-obd0qt r-16y2uox r-1g40b8q\" role=\"banner\"><div class=\"css-1dbjc4n r-f9dfq4\"><div class=\"css-1dbjc4n r-aqfbo4 r-1pi2tsx r-1xcajam r-ipm5af\"></div></div></header><main class=\"css-1dbjc4n r-1habvwh r-16xksha r-1wbh5a2\" role=\"main\"><div class=\"css-1dbjc4n r-150rngu r-16y2uox r-1wbh5a2 r-33ulu8\"><div class=\"css-1dbjc4n r-16y2uox\"><div class=\"css-1dbjc4n r-1iusvr4 r-16y2uox r-1777fci\"><div aria-label=\"Loading\" aria-valuemax=\"1\" aria-valuemin=\"0\" class=\"css-1dbjc4n r-1awozwy r-1777fci\" role=\"progressbar\"><div class=\"css-1dbjc4n r-17bb2tj r-1muvv40 r-127358a r-1ldzwu0\" style=\"height: 26px; width: 26px;\"><svg height=\"100%\" viewbox=\"0 0 32 32\" width=\"100%\" xmlns=\"http://www.w3.org/2000/svg\"><circle cx=\"16\" cy=\"16\" fill=\"none\" r=\"14\" stroke-width=\"4\" style=\"stroke: rgb(29, 161, 242); opacity: 0.2;\"></circle><circle cx=\"16\" cy=\"16\" fill=\"none\" r=\"14\" stroke-width=\"4\" style=\"stroke: rgb(29, 161, 242); stroke-dasharray: 80; stroke-dashoffset: 60;\"></circle></svg></div></div></div></div></div></main></div></div>\n<div class=\"css-1dbjc4n r-18u37iz r-13qz1uu r-417010\" style=\"min-height: 932px;\"><header class=\"css-1dbjc4n r-obd0qt r-16y2uox r-1g40b8q\" role=\"banner\"><div class=\"css-1dbjc4n r-f9dfq4\"><div class=\"css-1dbjc4n r-aqfbo4 r-1pi2tsx r-1xcajam r-ipm5af\"></div></div></header><main class=\"css-1dbjc4n r-1habvwh r-16xksha r-1wbh5a2\" role=\"main\"><div class=\"css-1dbjc4n r-150rngu r-16y2uox r-1wbh5a2 r-33ulu8\"><div class=\"css-1dbjc4n r-16y2uox\"><div class=\"css-1dbjc4n r-1iusvr4 r-16y2uox r-1777fci\"><div aria-label=\"Loading\" aria-valuemax=\"1\" aria-valuemin=\"0\" class=\"css-1dbjc4n r-1awozwy r-1777fci\" role=\"progressbar\"><div class=\"css-1dbjc4n r-17bb2tj r-1muvv40 r-127358a r-1ldzwu0\" style=\"height: 26px; width: 26px;\"><svg height=\"100%\" viewbox=\"0 0 32 32\" width=\"100%\" xmlns=\"http://www.w3.org/2000/svg\"><circle cx=\"16\" cy=\"16\" fill=\"none\" r=\"14\" stroke-width=\"4\" style=\"stroke: rgb(29, 161, 242); opacity: 0.2;\"></circle><circle cx=\"16\" cy=\"16\" fill=\"none\" r=\"14\" stroke-width=\"4\" style=\"stroke: rgb(29, 161, 242); stroke-dasharray: 80; stroke-dashoffset: 60;\"></circle></svg></div></div></div></div></div></main></div>\n<div class=\"css-1dbjc4n r-f9dfq4\"><div class=\"css-1dbjc4n r-aqfbo4 r-1pi2tsx r-1xcajam r-ipm5af\"></div></div>\n<div class=\"css-1dbjc4n r-aqfbo4 r-1pi2tsx r-1xcajam r-ipm5af\"></div>\n<div class=\"css-1dbjc4n r-150rngu r-16y2uox r-1wbh5a2 r-33ulu8\"><div class=\"css-1dbjc4n r-16y2uox\"><div class=\"css-1dbjc4n r-1iusvr4 r-16y2uox r-1777fci\"><div aria-label=\"Loading\" aria-valuemax=\"1\" aria-valuemin=\"0\" class=\"css-1dbjc4n r-1awozwy r-1777fci\" role=\"progressbar\"><div class=\"css-1dbjc4n r-17bb2tj r-1muvv40 r-127358a r-1ldzwu0\" style=\"height: 26px; width: 26px;\"><svg height=\"100%\" viewbox=\"0 0 32 32\" width=\"100%\" xmlns=\"http://www.w3.org/2000/svg\"><circle cx=\"16\" cy=\"16\" fill=\"none\" r=\"14\" stroke-width=\"4\" style=\"stroke: rgb(29, 161, 242); opacity: 0.2;\"></circle><circle cx=\"16\" cy=\"16\" fill=\"none\" r=\"14\" stroke-width=\"4\" style=\"stroke: rgb(29, 161, 242); stroke-dasharray: 80; stroke-dashoffset: 60;\"></circle></svg></div></div></div></div></div>\n<div class=\"css-1dbjc4n r-16y2uox\"><div class=\"css-1dbjc4n r-1iusvr4 r-16y2uox r-1777fci\"><div aria-label=\"Loading\" aria-valuemax=\"1\" aria-valuemin=\"0\" class=\"css-1dbjc4n r-1awozwy r-1777fci\" role=\"progressbar\"><div class=\"css-1dbjc4n r-17bb2tj r-1muvv40 r-127358a r-1ldzwu0\" style=\"height: 26px; width: 26px;\"><svg height=\"100%\" viewbox=\"0 0 32 32\" width=\"100%\" xmlns=\"http://www.w3.org/2000/svg\"><circle cx=\"16\" cy=\"16\" fill=\"none\" r=\"14\" stroke-width=\"4\" style=\"stroke: rgb(29, 161, 242); opacity: 0.2;\"></circle><circle cx=\"16\" cy=\"16\" fill=\"none\" r=\"14\" stroke-width=\"4\" style=\"stroke: rgb(29, 161, 242); stroke-dasharray: 80; stroke-dashoffset: 60;\"></circle></svg></div></div></div></div>\n<div class=\"css-1dbjc4n r-1iusvr4 r-16y2uox r-1777fci\"><div aria-label=\"Loading\" aria-valuemax=\"1\" aria-valuemin=\"0\" class=\"css-1dbjc4n r-1awozwy r-1777fci\" role=\"progressbar\"><div class=\"css-1dbjc4n r-17bb2tj r-1muvv40 r-127358a r-1ldzwu0\" style=\"height: 26px; width: 26px;\"><svg height=\"100%\" viewbox=\"0 0 32 32\" width=\"100%\" xmlns=\"http://www.w3.org/2000/svg\"><circle cx=\"16\" cy=\"16\" fill=\"none\" r=\"14\" stroke-width=\"4\" style=\"stroke: rgb(29, 161, 242); opacity: 0.2;\"></circle><circle cx=\"16\" cy=\"16\" fill=\"none\" r=\"14\" stroke-width=\"4\" style=\"stroke: rgb(29, 161, 242); stroke-dasharray: 80; stroke-dashoffset: 60;\"></circle></svg></div></div></div>\n<div aria-label=\"Loading\" aria-valuemax=\"1\" aria-valuemin=\"0\" class=\"css-1dbjc4n r-1awozwy r-1777fci\" role=\"progressbar\"><div class=\"css-1dbjc4n r-17bb2tj r-1muvv40 r-127358a r-1ldzwu0\" style=\"height: 26px; width: 26px;\"><svg height=\"100%\" viewbox=\"0 0 32 32\" width=\"100%\" xmlns=\"http://www.w3.org/2000/svg\"><circle cx=\"16\" cy=\"16\" fill=\"none\" r=\"14\" stroke-width=\"4\" style=\"stroke: rgb(29, 161, 242); opacity: 0.2;\"></circle><circle cx=\"16\" cy=\"16\" fill=\"none\" r=\"14\" stroke-width=\"4\" style=\"stroke: rgb(29, 161, 242); stroke-dasharray: 80; stroke-dashoffset: 60;\"></circle></svg></div></div>\n<div class=\"css-1dbjc4n r-17bb2tj r-1muvv40 r-127358a r-1ldzwu0\" style=\"height: 26px; width: 26px;\"><svg height=\"100%\" viewbox=\"0 0 32 32\" width=\"100%\" xmlns=\"http://www.w3.org/2000/svg\"><circle cx=\"16\" cy=\"16\" fill=\"none\" r=\"14\" stroke-width=\"4\" style=\"stroke: rgb(29, 161, 242); opacity: 0.2;\"></circle><circle cx=\"16\" cy=\"16\" fill=\"none\" r=\"14\" stroke-width=\"4\" style=\"stroke: rgb(29, 161, 242); stroke-dasharray: 80; stroke-dashoffset: 60;\"></circle></svg></div>\n"
    }
   ],
   "source": [
    "divs = soup.find_all('div', class_='css-1dbjc4n')\n",
    "for d in divs:\n",
    "    d.find_all('span')\n",
    "    print(d)"
   ]
  },
  {
   "cell_type": "markdown",
   "metadata": {},
   "source": [
    "## Mars Facts"
   ]
  },
  {
   "cell_type": "code",
   "execution_count": 27,
   "metadata": {},
   "outputs": [],
   "source": [
    "url = 'https://space-facts.com/mars/'\n",
    "browser.visit(url)\n",
    "html = browser.html\n",
    "soup = bs(html, 'html')"
   ]
  },
  {
   "cell_type": "code",
   "execution_count": 47,
   "metadata": {},
   "outputs": [],
   "source": [
    "facts = pd.read_html(url)\n",
    "facts_df = pd.DataFrame(facts[0])\n",
    "facts_df.columns = ['Data','Value']\n",
    "facts_df = facts_df.set_index('Data')\n",
    "facts_df.to_html('mars_facts.html')"
   ]
  },
  {
   "cell_type": "markdown",
   "metadata": {},
   "source": [
    "## Mars Hemispheres"
   ]
  },
  {
   "cell_type": "code",
   "execution_count": 104,
   "metadata": {},
   "outputs": [],
   "source": [
    "url = 'https://astrogeology.usgs.gov/search/results?q=hemisphere+enhanced&k1=target&v1=Mars'\n",
    "browser.visit(url)\n",
    "html = browser.html\n",
    "soup = bs(html, 'html')"
   ]
  },
  {
   "cell_type": "code",
   "execution_count": 105,
   "metadata": {},
   "outputs": [
    {
     "output_type": "stream",
     "name": "stdout",
     "text": "{'Hemisphere': 'Cerberus Hemisphere', 'Img link': 'http://astropedia.astrogeology.usgs.gov/download/Mars/Viking/schiaparelli_enhanced.tif/full.jpg'}\n{'Hemisphere': 'Schiaparelli Hemisphere', 'Img link': 'http://astropedia.astrogeology.usgs.gov/download/Mars/Viking/schiaparelli_enhanced.tif/full.jpg'}\n{'Hemisphere': 'Syrtis Major Hemisphere', 'Img link': 'http://astropedia.astrogeology.usgs.gov/download/Mars/Viking/schiaparelli_enhanced.tif/full.jpg'}\n{'Hemisphere': 'Valles Marineris Hemisphere', 'Img link': 'http://astropedia.astrogeology.usgs.gov/download/Mars/Viking/schiaparelli_enhanced.tif/full.jpg'}\n"
    }
   ],
   "source": [
    "hemispheres = {}\n",
    "products = soup('div', class_='description')\n",
    "\n",
    "for p in products:\n",
    "    hem = p.find('h3').text\n",
    "    hem = hem.replace(' Enhanced','')\n",
    "    hemispheres['Hemisphere'] = hem\n",
    "    browser.click_link_by_partial_text(hem)\n",
    "    html = browser.html\n",
    "    soup = bs(html,'html')\n",
    "    soup.find_all('a', {'target':'_blank'})\n",
    "    for i in image_url:\n",
    "        if 'Sample' in i.text:\n",
    "            hemispheres['Img link'] = i['href']\n",
    "    print(hemispheres)"
   ]
  }
 ],
 "metadata": {
  "language_info": {
   "name": "python",
   "codemirror_mode": {
    "name": "ipython",
    "version": 3
   },
   "version": "3.7.4-final"
  },
  "orig_nbformat": 2,
  "file_extension": ".py",
  "mimetype": "text/x-python",
  "name": "python",
  "npconvert_exporter": "python",
  "pygments_lexer": "ipython3",
  "version": 3,
  "kernelspec": {
   "name": "python37464bitbaseconda1f272b08825b44268b0b382f97a12fd9",
   "display_name": "Python 3.7.4 64-bit ('base': conda)"
  }
 },
 "nbformat": 4,
 "nbformat_minor": 2
}