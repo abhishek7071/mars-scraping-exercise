{
 "cells": [
  {
   "cell_type": "code",
   "execution_count": 2,
   "metadata": {},
   "outputs": [],
   "source": [
    "# Dependencies\n",
    "from bs4 import BeautifulSoup as bs\n",
    "import requests\n",
    "from splinter import Browser\n",
    "import pandas as pd\n",
    "import tweepy"
   ]
  },
  {
   "cell_type": "code",
   "execution_count": 3,
   "metadata": {},
   "outputs": [],
   "source": [
    "browser = Browser('chrome', {'executable_path': 'chromedriver.exe'})"
   ]
  },
  {
   "cell_type": "markdown",
   "metadata": {},
   "source": [
    "## NASA Mars News"
   ]
  },
  {
   "cell_type": "code",
   "execution_count": 4,
   "metadata": {},
   "outputs": [],
   "source": [
    "url = 'https://mars.nasa.gov/news/'\n",
    "browser.visit(url)\n",
    "html = browser.html\n",
    "soup = bs(html, 'html')"
   ]
  },
  {
   "cell_type": "code",
   "execution_count": 5,
   "metadata": {},
   "outputs": [
    {
     "output_type": "execute_result",
     "data": {
      "text/plain": "\"The Extraordinary Sample-Gathering System of NASA's Perseverance Mars Rover\""
     },
     "metadata": {},
     "execution_count": 5
    }
   ],
   "source": [
    "content_titles = soup.find_all('div', class_ = 'content_title')\n",
    "article_title = content_titles[1].text\n",
    "article_title"
   ]
  },
  {
   "cell_type": "code",
   "execution_count": 6,
   "metadata": {},
   "outputs": [
    {
     "output_type": "execute_result",
     "data": {
      "text/plain": "'Two astronauts collected Moon rocks on Apollo 11. It will take three robotic systems working together to gather up the first Mars rock samples for return to Earth.'"
     },
     "metadata": {},
     "execution_count": 6
    }
   ],
   "source": [
    "teaser_body = soup.find('div', class_ = 'article_teaser_body').text\n",
    "teaser_body"
   ]
  },
  {
   "cell_type": "markdown",
   "metadata": {},
   "source": [
    "## JPL Mars Space Images - Featured Image"
   ]
  },
  {
   "cell_type": "code",
   "execution_count": 7,
   "metadata": {},
   "outputs": [],
   "source": [
    "url = 'https://www.jpl.nasa.gov/spaceimages/?search=&category=Mars'\n",
    "browser.visit(url)"
   ]
  },
  {
   "cell_type": "code",
   "execution_count": 8,
   "metadata": {},
   "outputs": [],
   "source": [
    "browser.click_link_by_partial_text('FULL')"
   ]
  },
  {
   "cell_type": "code",
   "execution_count": 9,
   "metadata": {},
   "outputs": [],
   "source": [
    "browser.click_link_by_partial_text('more info')\n",
    "html = browser.html\n",
    "soup = bs(html,'html')"
   ]
  },
  {
   "cell_type": "code",
   "execution_count": 10,
   "metadata": {},
   "outputs": [
    {
     "output_type": "execute_result",
     "data": {
      "text/plain": "'https://jpl.nasa.gov/spaceimages/images/largesize/PIA01486_hires.jpg'"
     },
     "metadata": {},
     "execution_count": 10
    }
   ],
   "source": [
    "lede = soup.find('figure', class_='lede')\n",
    "img = lede.find('a')['href']\n",
    "img_url = f'https://jpl.nasa.gov{img}'\n",
    "img_url"
   ]
  },
  {
   "cell_type": "markdown",
   "metadata": {},
   "source": [
    "## Mars Weather"
   ]
  },
  {
   "cell_type": "code",
   "execution_count": 11,
   "metadata": {},
   "outputs": [],
   "source": [
    "from twitter import api_key, api_secret_key"
   ]
  },
  {
   "cell_type": "code",
   "execution_count": 12,
   "metadata": {},
   "outputs": [],
   "source": [
    "auth = tweepy.OAuthHandler(api_key, api_secret_key)\n",
    "api = tweepy.API(auth)"
   ]
  },
  {
   "cell_type": "code",
   "execution_count": 13,
   "metadata": {},
   "outputs": [
    {
     "output_type": "execute_result",
     "data": {
      "text/plain": "'InSight sol 541 (2020-06-04) low -91.8ºC (-133.2ºF) high -1.6ºC (29.2ºF)\\nwinds from the SW at 5.4 m/s (12.2 mph) gusting to 17.7 m/s (39.6 mph)\\npressure at 7.30 hPa'"
     },
     "metadata": {},
     "execution_count": 13
    }
   ],
   "source": [
    "username = 'MarsWxReport'\n",
    "tweets = []\n",
    "data = api.user_timeline(id=username, tweet_mode=\"extended\")\n",
    "\n",
    "for t in data:\n",
    "    tweets.append(t.full_text)\n",
    "weather = tweets[0]\n",
    "weather = weather.split(' http',1)[0]\n",
    "weather"
   ]
  },
  {
   "cell_type": "markdown",
   "metadata": {},
   "source": [
    "## Mars Facts"
   ]
  },
  {
   "cell_type": "code",
   "execution_count": 14,
   "metadata": {},
   "outputs": [],
   "source": [
    "url = 'https://space-facts.com/mars/'\n",
    "browser.visit(url)\n",
    "html = browser.html\n",
    "soup = bs(html, 'html')"
   ]
  },
  {
   "cell_type": "code",
   "execution_count": 15,
   "metadata": {},
   "outputs": [],
   "source": [
    "facts = pd.read_html(url)\n",
    "facts_df = pd.DataFrame(facts[0])\n",
    "facts_df.columns = ['Data','Value']\n",
    "facts_df = facts_df.set_index('Data')\n",
    "facts_df.to_html('mars_facts.html')"
   ]
  },
  {
   "cell_type": "markdown",
   "metadata": {},
   "source": [
    "## Mars Hemispheres"
   ]
  },
  {
   "cell_type": "code",
   "execution_count": 16,
   "metadata": {},
   "outputs": [],
   "source": [
    "url = 'https://astrogeology.usgs.gov/search/results?q=hemisphere+enhanced&k1=target&v1=Mars'\n",
    "browser.visit(url)\n",
    "html = browser.html\n",
    "soup = bs(html, 'html')"
   ]
  },
  {
   "cell_type": "code",
   "execution_count": 17,
   "metadata": {},
   "outputs": [
    {
     "output_type": "execute_result",
     "data": {
      "text/plain": "[{'Hemisphere': 'Valles Marineris Hemisphere',\n  'Img link': 'https://astropedia.astrogeology.usgs.gov/download/Mars/Viking/valles_marineris_unenhanced.tif/full.jpg'},\n {'Hemisphere': 'Valles Marineris Hemisphere',\n  'Img link': 'https://astropedia.astrogeology.usgs.gov/download/Mars/Viking/valles_marineris_unenhanced.tif/full.jpg'},\n {'Hemisphere': 'Valles Marineris Hemisphere',\n  'Img link': 'https://astropedia.astrogeology.usgs.gov/download/Mars/Viking/valles_marineris_unenhanced.tif/full.jpg'},\n {'Hemisphere': 'Valles Marineris Hemisphere',\n  'Img link': 'https://astropedia.astrogeology.usgs.gov/download/Mars/Viking/valles_marineris_unenhanced.tif/full.jpg'}]"
     },
     "metadata": {},
     "execution_count": 17
    }
   ],
   "source": [
    "list_hem = []\n",
    "hemispheres = {}\n",
    "products = soup('div', class_='description')\n",
    "\n",
    "for p in products:\n",
    "    hem = p.find('h3').text\n",
    "    hem = hem.replace(' Enhanced','')\n",
    "    hemispheres['Hemisphere'] = hem\n",
    "    browser.click_link_by_partial_text(hem)\n",
    "    html = browser.html\n",
    "    soup = bs(html,'html')\n",
    "    image_url = soup.find_all('a', {'target':'_blank'})\n",
    "    for i in image_url:\n",
    "        if 'Sample' in i.text:\n",
    "            hemispheres['Img link'] = i['href']\n",
    "    list_hem.append(hemispheres)\n",
    "list_hem"
   ]
  }
 ],
 "metadata": {
  "language_info": {
   "name": "python",
   "codemirror_mode": {
    "name": "ipython",
    "version": 3
   },
   "version": "3.7.4-final"
  },
  "orig_nbformat": 2,
  "file_extension": ".py",
  "mimetype": "text/x-python",
  "name": "python",
  "npconvert_exporter": "python",
  "pygments_lexer": "ipython3",
  "version": 3,
  "kernelspec": {
   "name": "python37464bitbaseconda1f272b08825b44268b0b382f97a12fd9",
   "display_name": "Python 3.7.4 64-bit ('base': conda)"
  }
 },
 "nbformat": 4,
 "nbformat_minor": 2
}